{
 "cells": [
  {
   "cell_type": "code",
   "execution_count": 1,
   "metadata": {},
   "outputs": [],
   "source": [
    "import numpy as np\n",
    "import matplotlib.pyplot as plt\n",
    "import warnings\n",
    "warnings.filterwarnings('ignore')\n",
    "\n",
    "import torch\n",
    "import torch.nn as nn\n",
    "import torch.optim as optim\n",
    "from torch.utils.data import DataLoader\n",
    "\n",
    "import torchvision.transforms as tr \n",
    "\n",
    "from data import dataset\n",
    "from utils import seed, trainer\n",
    "from model import basic_classifier\n",
    "from model.backbone import resnet101\n",
    "\n",
    "seed.seed_everything()"
   ]
  },
  {
   "cell_type": "code",
   "execution_count": 2,
   "metadata": {},
   "outputs": [
    {
     "name": "stdout",
     "output_type": "stream",
     "text": [
      "cpu\n"
     ]
    }
   ],
   "source": [
    "device = 'cuda:0' if torch.cuda.is_available() else 'cpu'\n",
    "print(device)"
   ]
  },
  {
   "cell_type": "code",
   "execution_count": null,
   "metadata": {},
   "outputs": [],
   "source": [
    "### Fine-tuning ### \n",
    "\n",
    "image_dir_train = './data'\n",
    "image_dir_val = './data'\n",
    "image_dir_test = './data'\n",
    "\n",
    "transform = tr.Compose(\n",
    "    [\n",
    "        tr.Resize(512), \n",
    "        tr.RandomHorizontalFlip(), \n",
    "        tr.RandomVerticalFlip(), \n",
    "        tr.RandomRotation(10), \n",
    "        tr.ToTensor()\n",
    "    ]\n",
    ")\n",
    "\n",
    "train_set = dataset.make_dataset(\n",
    "    image_dir=image_dir_train,\n",
    "    transform=transform\n",
    ")\n",
    "\n",
    "val_set = dataset.make_dataset(\n",
    "    image_dir=image_dir_val,\n",
    "    transform=tr.Compose([tr.Resize(512), tr.ToTensor()])\n",
    ")\n",
    "\n",
    "test_set = dataset.make_dataset(\n",
    "    image_dir=image_dir_test,\n",
    "    transform=tr.Compose([tr.Resize(512), tr.ToTensor()])\n",
    ")\n",
    "\n",
    "train_loader = DataLoader(\n",
    "    train_set, \n",
    "    batch_size=4,\n",
    "    shuffle=True\n",
    ")\n",
    "\n",
    "val_loader = DataLoader(\n",
    "    val_set, \n",
    "    batch_size=4,\n",
    "    shuffle=False \n",
    ")\n",
    "\n",
    "test_loader = DataLoader(\n",
    "    test_set, \n",
    "    batch_size=4,\n",
    "    shuffle=False \n",
    ")"
   ]
  },
  {
   "cell_type": "code",
   "execution_count": null,
   "metadata": {},
   "outputs": [],
   "source": [
    "ENABLE_PDA = True\n",
    "\n",
    "resnet = resnet101.ResNet101(pretrain=True).to(device=device)\n",
    "model = basic_classifier.BasicClassifier(\n",
    "    model=resnet, \n",
    "    in_features=resnet.in_features,\n",
    "    freezing=True, \n",
    "    enable_PDA=ENABLE_PDA,\n",
    "    num_classes=1\n",
    ").to(device=device)\n",
    "\n",
    "# print(model) "
   ]
  },
  {
   "cell_type": "code",
   "execution_count": null,
   "metadata": {},
   "outputs": [],
   "source": [
    "# Warm-up stage \n",
    "# 0 ~ 10 epochs\n",
    "EPOCHS = 10\n",
    "\n",
    "criterion = nn.BCEWithLogitsLoss()\n",
    "# higher lr for warm-up\n",
    "optimizer = optim.Adam(model.parameters(), lr=1e-3, weight_decay=1e-3)\n",
    "           \n",
    "max_loss = np.inf\n",
    "\n",
    "model.enable_PDA = False "
   ]
  },
  {
   "cell_type": "code",
   "execution_count": null,
   "metadata": {},
   "outputs": [],
   "source": [
    "for epoch in range(EPOCHS):\n",
    "    train_loss, train_acc = trainer.model_train(\n",
    "        model=model, \n",
    "        data_loader=train_loader, \n",
    "        criterion=criterion, \n",
    "        optimizer=optimizer, \n",
    "        device=device, \n",
    "        scheduler=None, \n",
    "    )\n",
    "    \n",
    "    val_loss, val_acc = trainer.model_evaluate(\n",
    "        model=model, \n",
    "        data_loader=val_loader, \n",
    "        criterion=criterion, \n",
    "        device=device)\n",
    "\n",
    "    print(f'epoch {epoch+1:02d}, loss: {train_loss:.5f}, accuracy: {train_acc:.5f}, val_loss: {val_loss:.5f}, val_accuracy: {val_acc:.5f} \\n')"
   ]
  },
  {
   "cell_type": "code",
   "execution_count": null,
   "metadata": {},
   "outputs": [],
   "source": [
    "# freezing True -> False \n",
    "for p in model.backbone.parameters():\n",
    "    p.requires_grad = True"
   ]
  },
  {
   "cell_type": "code",
   "execution_count": null,
   "metadata": {},
   "outputs": [],
   "source": [
    "# Fine-tuning stage \n",
    "# 10 ~ 50 epochs\n",
    "EPOCHS = 40\n",
    "\n",
    "criterion = nn.BCEWithLogitsLoss()\n",
    "# lower lr for fine-tuning\n",
    "optimizer = optim.Adam(model.parameters(), lr=5e-4, weight_decay=1e-3)\n",
    "es = trainer.EarlyStopping(patience=EPOCHS//2, delta=0, mode='min', verbose=True)\n",
    "scheduler = optim.lr_scheduler.StepLR(optimizer, step_size=EPOCHS//5, gamma=0.9)\n",
    "\n",
    "history = {'train_loss' : [],\n",
    "           'val_loss': [],\n",
    "           'train_accuracy': [],\n",
    "           'val_accuracy': []}\n",
    "           \n",
    "max_loss = np.inf    \n",
    "\n",
    "model.enable_PDA = True"
   ]
  },
  {
   "cell_type": "code",
   "execution_count": null,
   "metadata": {},
   "outputs": [],
   "source": [
    "for epoch in range(EPOCHS):\n",
    "    if ENABLE_PDA:\n",
    "        model.update_cutoff_()\n",
    "        \n",
    "    train_loss, train_acc = trainer.model_train(\n",
    "        model=model, \n",
    "        data_loader=train_loader, \n",
    "        criterion=criterion, \n",
    "        optimizer=optimizer, \n",
    "        device=device, \n",
    "        scheduler=scheduler, \n",
    "    )\n",
    "    val_loss, val_acc = trainer.model_evaluate(\n",
    "        model=model, \n",
    "        data_loader=val_loader, \n",
    "        criterion=criterion, \n",
    "        device=device\n",
    "    )\n",
    "    \n",
    "    history['train_loss'].append(train_loss)\n",
    "    history['train_accuracy'].append(train_acc)\n",
    "    history['val_loss'].append(val_loss)\n",
    "    history['val_accuracy'].append(val_acc)\n",
    "    \n",
    "    es(val_loss)\n",
    "    # Early Stop Check\n",
    "    if es.early_stop:\n",
    "        break\n",
    "\n",
    "    if val_loss < max_loss:\n",
    "        print(f'[INFO] val_loss has been improved from {max_loss:.5f} to {val_loss:.5f}. Save model.')\n",
    "        max_loss = val_loss\n",
    "        torch.save(model.state_dict(), 'Best_Model_IMAGENET.pth')\n",
    "\n",
    "    print(f'epoch {epoch+1:02d}, loss: {train_loss:.5f}, accuracy: {train_acc:.5f}, val_loss: {val_loss:.5f}, val_accuracy: {val_acc:.5f} \\n')"
   ]
  },
  {
   "cell_type": "code",
   "execution_count": null,
   "metadata": {},
   "outputs": [],
   "source": [
    "trainer.plot_acc(history=history)"
   ]
  },
  {
   "cell_type": "code",
   "execution_count": null,
   "metadata": {},
   "outputs": [],
   "source": [
    "trainer.plot_loss(history=history)"
   ]
  },
  {
   "cell_type": "code",
   "execution_count": null,
   "metadata": {},
   "outputs": [],
   "source": [
    "backbone = resnet101.ResNet101(pretrain=False).to(device=device)\n",
    "model = basic_classifier.BasicClassifier(\n",
    "    model=resnet, \n",
    "    in_features=resnet.in_features,\n",
    "    freezing=True, \n",
    "    enable_PDA=ENABLE_PDA,\n",
    "    num_classes=1\n",
    ").to(device=device)\n",
    "\n",
    "model.load_state_dict(torch.load('Best_Model_IMAGENET.pth', map_location=device))\n",
    "model.eval()\n",
    "\n",
    "test_loss, test_acc = trainer.model_evaluate(\n",
    "    model=model,\n",
    "    data_loader=test_loader,\n",
    "    criterion=criterion,\n",
    "    device=device\n",
    ")\n",
    "\n",
    "print('Test Loss: %s'%test_loss)\n",
    "print('Test Accuracy: %s'%test_acc)"
   ]
  }
 ],
 "metadata": {
  "kernelspec": {
   "display_name": "dev",
   "language": "python",
   "name": "python3"
  },
  "language_info": {
   "codemirror_mode": {
    "name": "ipython",
    "version": 3
   },
   "file_extension": ".py",
   "mimetype": "text/x-python",
   "name": "python",
   "nbconvert_exporter": "python",
   "pygments_lexer": "ipython3",
   "version": "3.9.19"
  }
 },
 "nbformat": 4,
 "nbformat_minor": 2
}
